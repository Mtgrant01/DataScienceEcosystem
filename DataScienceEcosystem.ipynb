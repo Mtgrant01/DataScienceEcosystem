{
 "cells": [
  {
   "cell_type": "markdown",
   "id": "9f819a5a-f885-4b00-bfd2-8254f31af324",
   "metadata": {},
   "source": [
    "# **Data Science Tools and Ecosystem**"
   ]
  },
  {
   "cell_type": "markdown",
   "id": "dcfeafeb-23b7-43ca-b81f-49f977a072d0",
   "metadata": {},
   "source": [
    "# In this notebook, Data Science Tools and Ecosystem are summarized."
   ]
  },
  {
   "cell_type": "markdown",
   "id": "c3442512-a3c9-4fe8-88c3-9301a9eabc05",
   "metadata": {},
   "source": [
    "**Objectives:**"
   ]
  },
  {
   "cell_type": "markdown",
   "id": "ba535016-11fe-4dc7-86ab-deebc417e37b",
   "metadata": {},
   "source": [
    "- List popular languages for Data Science\n",
    "- List commonly used languages in Data Science\n",
    "- Examples of arithmetic expressions in Python"
   ]
  },
  {
   "cell_type": "markdown",
   "id": "e94ab01a-42c1-4250-ab50-4f3a10390b8a",
   "metadata": {},
   "source": [
    "# Some of the popular languages that Data Scientists use are:"
   ]
  },
  {
   "cell_type": "markdown",
   "id": "260b7ab8-e6f3-4154-ae99-e978ec6b2b77",
   "metadata": {},
   "source": [
    "1. Python\n",
    "2. R\n",
    "3. SQL\n",
    "4. Scala\n",
    "5. Java"
   ]
  },
  {
   "cell_type": "markdown",
   "id": "68898afd-86e3-4df3-bef5-03615bab67fa",
   "metadata": {},
   "source": [
    "# Some of the commonly used libraries used by Data Scientists include:"
   ]
  },
  {
   "cell_type": "markdown",
   "id": "3b07b165-352d-45b2-8f5a-64068a0c2698",
   "metadata": {},
   "source": [
    "1. Pandas\n",
    "2. NumPy\n",
    "3. Matplotlib\n",
    "4. Seaborn\n",
    "5. Scikit-learn"
   ]
  },
  {
   "cell_type": "markdown",
   "id": "6c8d1e69-f49e-4b61-8e7e-ad5f80b1c2b1",
   "metadata": {},
   "source": [
    "| Data Science Tools |\n",
    "| ------------------ |\n",
    "| MySQL |\n",
    "| PostgreSQL |\n",
    "| MongoDB |"
   ]
  },
  {
   "cell_type": "markdown",
   "id": "7e369f61-bd09-4839-8198-c4141cc023ba",
   "metadata": {},
   "source": [
    "### Below are a few examples of evaluating arithmetic expressions in Python"
   ]
  },
  {
   "cell_type": "code",
   "execution_count": 24,
   "id": "836a0822-354e-456c-acb0-850523f9033a",
   "metadata": {},
   "outputs": [
    {
     "data": {
      "text/plain": [
       "17"
      ]
     },
     "execution_count": 24,
     "metadata": {},
     "output_type": "execute_result"
    }
   ],
   "source": [
    "# This is a simple arithmetic expression to multiply then add integers.\n",
    "(3*4)+5\n"
   ]
  },
  {
   "cell_type": "code",
   "execution_count": 26,
   "id": "b440fcad-66c9-4411-9d3a-a6cdc3a2c072",
   "metadata": {},
   "outputs": [
    {
     "data": {
      "text/plain": [
       "3.3333333333333335"
      ]
     },
     "execution_count": 26,
     "metadata": {},
     "output_type": "execute_result"
    }
   ],
   "source": [
    "# This will convert 200 minutes to hours by dividing by 60.\n",
    "200/60"
   ]
  },
  {
   "cell_type": "markdown",
   "id": "ace02465-becc-40ce-9ef3-b26be4bc228a",
   "metadata": {},
   "source": [
    "## Author\n",
    "Matthew Grant"
   ]
  },
  {
   "cell_type": "code",
   "execution_count": null,
   "id": "569699c1-3960-4d93-b5be-b17460681bb0",
   "metadata": {},
   "outputs": [],
   "source": []
  }
 ],
 "metadata": {
  "kernelspec": {
   "display_name": "Python 3 (ipykernel)",
   "language": "python",
   "name": "python3"
  },
  "language_info": {
   "codemirror_mode": {
    "name": "ipython",
    "version": 3
   },
   "file_extension": ".py",
   "mimetype": "text/x-python",
   "name": "python",
   "nbconvert_exporter": "python",
   "pygments_lexer": "ipython3",
   "version": "3.12.4"
  }
 },
 "nbformat": 4,
 "nbformat_minor": 5
}
